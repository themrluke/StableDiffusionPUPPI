{
 "cells": [
  {
   "cell_type": "code",
   "execution_count": 2,
   "metadata": {},
   "outputs": [],
   "source": [
    "from data_processing import Dataset\n",
    "from noise import NoiseScheduler\n",
    "import matplotlib.pyplot as plt\n",
    "import numpy as np\n",
    "import torch.nn.functional as F\n",
    "from torchvision import transforms\n",
    "import torch\n"
   ]
  },
  {
   "cell_type": "code",
   "execution_count": 3,
   "metadata": {},
   "outputs": [],
   "source": [
    "baseDir='/hdfs/user/ys20884/hackathon/data'\n",
    "dataset = Dataset(1_000, (120, 72), signal_file=f\"{baseDir}/CaloImages_signal.root\", pile_up_file=f\"{baseDir}/CaloImages_bkg.root\", save=False)"
   ]
  },
  {
   "cell_type": "code",
   "execution_count": 4,
   "metadata": {},
   "outputs": [
    {
     "name": "stderr",
     "output_type": "stream",
     "text": [
      "INFO:root:loading file /hdfs/user/ys20884/hackathon/data/CaloImages_signal.root\n",
      "loading file /hdfs/user/ys20884/hackathon/data/CaloImages_signal.root\n",
      "100%|██████████| 1000/1000 [00:01<00:00, 639.02it/s]\n",
      "INFO:root:loading file /hdfs/user/ys20884/hackathon/data/CaloImages_bkg.root\n",
      "loading file /hdfs/user/ys20884/hackathon/data/CaloImages_bkg.root\n",
      "100%|██████████| 1000/1000 [00:01<00:00, 648.78it/s]\n"
     ]
    }
   ],
   "source": [
    "dataset() #once this is cached, you don't have to re-load"
   ]
  },
  {
   "cell_type": "code",
   "execution_count": 5,
   "metadata": {},
   "outputs": [],
   "source": [
    "new_dim=(64,64)"
   ]
  },
  {
   "cell_type": "code",
   "execution_count": 6,
   "metadata": {},
   "outputs": [
    {
     "name": "stderr",
     "output_type": "stream",
     "text": [
      "INFO:root:scaling\n",
      "scaling\n",
      "INFO:root:re-sizing\n",
      "re-sizing\n"
     ]
    }
   ],
   "source": [
    "dataset.preprocess(16, new_dim)"
   ]
  },
  {
   "cell_type": "code",
   "execution_count": 7,
   "metadata": {},
   "outputs": [],
   "source": [
    "preprocess = transforms.Compose(\n",
    "        [\n",
    "            transforms.ToTensor()\n",
    "        ]\n",
    ")"
   ]
  },
  {
   "cell_type": "code",
   "execution_count": 8,
   "metadata": {},
   "outputs": [],
   "source": [
    "clean_frames = preprocess(dataset.signal).float().permute(1, 2, 0).unsqueeze(1) #pytorch symantics\n",
    "pile_up = preprocess(dataset.pile_up).float().permute(1, 2, 0).unsqueeze(1)"
   ]
  },
  {
   "cell_type": "code",
   "execution_count": 31,
   "metadata": {},
   "outputs": [],
   "source": [
    "i = 10\n",
    "noise_scheduler = NoiseScheduler('pile-up')\n",
    "timestep = torch.LongTensor([1]) #each unit of timestep represents an addtional 5 pile-up events\n",
    "random_seed = 42\n",
    "noisy_image, noise = noise_scheduler.add_noise(clean_frame=clean_frames[i], noise_sample=pile_up, timestep=timestep, random_seed=random_seed, n_events = 1000)\n"
   ]
  },
  {
   "cell_type": "code",
   "execution_count": 32,
   "metadata": {},
   "outputs": [
    {
     "name": "stdout",
     "output_type": "stream",
     "text": [
      "Mean: 0.004385859705507755\n",
      "Max: 1.0\n",
      "Min: 0.0\n"
     ]
    },
    {
     "data": {
      "text/plain": [
       "<matplotlib.colorbar.Colorbar at 0x7f759c07d610>"
      ]
     },
     "execution_count": 32,
     "metadata": {},
     "output_type": "execute_result"
    },
    {
     "data": {
      "image/png": "[encoded data removed]",
      "text/plain": [
       "<Figure size 432x288 with 2 Axes>"
      ]
     },
     "metadata": {
      "needs_background": "light"
     },
     "output_type": "display_data"
    }
   ],
   "source": [
    "\n",
    "plt.imshow(noisy_image.reshape(new_dim))\n",
    "plt.colorbar()\n",
    "plt.title(\"Noised Image\")"
   ]
  },
  {
   "cell_type": "code",
   "execution_count": 42,
   "metadata": {},
   "outputs": [
    {
     "name": "stdout",
     "output_type": "stream",
     "text": [
      "UNetLite(\n",
      "  (inc): DoubleConv(\n",
      "    (double_conv): Sequential(\n",
      "      (0): Conv2d(1, 4, kernel_size=(3, 3), stride=(1, 1), padding=(1, 1), bias=False)\n",
      "      (1): GroupNorm(1, 4, eps=1e-05, affine=True)\n",
      "      (2): ReLU()\n",
      "      (3): Conv2d(4, 4, kernel_size=(3, 3), stride=(1, 1), padding=(1, 1), bias=False)\n",
      "      (4): GroupNorm(1, 4, eps=1e-05, affine=True)\n",
      "      (5): ReLU()\n",
      "    )\n",
      "  )\n",
      "  (down1): Down(\n",
      "    (maxpool_conv): Sequential(\n",
      "      (0): MaxPool2d(kernel_size=2, stride=2, padding=0, dilation=1, ceil_mode=False)\n",
      "      (1): DoubleConv(\n",
      "        (double_conv): Sequential(\n",
      "          (0): Conv2d(4, 8, kernel_size=(3, 3), stride=(1, 1), padding=(1, 1), bias=False)\n",
      "          (1): GroupNorm(1, 8, eps=1e-05, affine=True)\n",
      "          (2): ReLU()\n",
      "          (3): Conv2d(8, 8, kernel_size=(3, 3), stride=(1, 1), padding=(1, 1), bias=False)\n",
      "          (4): GroupNorm(1, 8, eps=1e-05, affine=True)\n",
      "          (5): ReLU()\n",
      "        )\n",
      "      )\n",
      "    )\n",
      "    (emb_layer): Sequential(\n",
      "      (0): ReLU()\n",
      "      (1): Linear(in_features=4, out_features=8, bias=True)\n",
      "    )\n",
      "  )\n",
      "  (down2): Down(\n",
      "    (maxpool_conv): Sequential(\n",
      "      (0): MaxPool2d(kernel_size=2, stride=2, padding=0, dilation=1, ceil_mode=False)\n",
      "      (1): DoubleConv(\n",
      "        (double_conv): Sequential(\n",
      "          (0): Conv2d(8, 16, kernel_size=(3, 3), stride=(1, 1), padding=(1, 1), bias=False)\n",
      "          (1): GroupNorm(1, 16, eps=1e-05, affine=True)\n",
      "          (2): ReLU()\n",
      "          (3): Conv2d(16, 16, kernel_size=(3, 3), stride=(1, 1), padding=(1, 1), bias=False)\n",
      "          (4): GroupNorm(1, 16, eps=1e-05, affine=True)\n",
      "          (5): ReLU()\n",
      "        )\n",
      "      )\n",
      "    )\n",
      "    (emb_layer): Sequential(\n",
      "      (0): ReLU()\n",
      "      (1): Linear(in_features=4, out_features=16, bias=True)\n",
      "    )\n",
      "  )\n",
      "  (down3): Down(\n",
      "    (maxpool_conv): Sequential(\n",
      "      (0): MaxPool2d(kernel_size=2, stride=2, padding=0, dilation=1, ceil_mode=False)\n",
      "      (1): DoubleConv(\n",
      "        (double_conv): Sequential(\n",
      "          (0): Conv2d(16, 32, kernel_size=(3, 3), stride=(1, 1), padding=(1, 1), bias=False)\n",
      "          (1): GroupNorm(1, 32, eps=1e-05, affine=True)\n",
      "          (2): ReLU()\n",
      "          (3): Conv2d(32, 32, kernel_size=(3, 3), stride=(1, 1), padding=(1, 1), bias=False)\n",
      "          (4): GroupNorm(1, 32, eps=1e-05, affine=True)\n",
      "          (5): ReLU()\n",
      "        )\n",
      "      )\n",
      "    )\n",
      "    (emb_layer): Sequential(\n",
      "      (0): ReLU()\n",
      "      (1): Linear(in_features=4, out_features=32, bias=True)\n",
      "    )\n",
      "  )\n",
      "  (bot1): DoubleConv(\n",
      "    (double_conv): Sequential(\n",
      "      (0): Conv2d(32, 16, kernel_size=(3, 3), stride=(1, 1), padding=(1, 1), bias=False)\n",
      "      (1): GroupNorm(1, 16, eps=1e-05, affine=True)\n",
      "      (2): ReLU()\n",
      "      (3): Conv2d(16, 16, kernel_size=(3, 3), stride=(1, 1), padding=(1, 1), bias=False)\n",
      "      (4): GroupNorm(1, 16, eps=1e-05, affine=True)\n",
      "      (5): ReLU()\n",
      "    )\n",
      "  )\n",
      "  (up1): Up(\n",
      "    (up): Upsample(scale_factor=2.0, mode='nearest')\n",
      "    (conv): Sequential(\n",
      "      (0): DoubleConv(\n",
      "        (double_conv): Sequential(\n",
      "          (0): Conv2d(32, 16, kernel_size=(3, 3), stride=(1, 1), padding=(1, 1), bias=False)\n",
      "          (1): GroupNorm(1, 16, eps=1e-05, affine=True)\n",
      "          (2): ReLU()\n",
      "          (3): Conv2d(16, 8, kernel_size=(3, 3), stride=(1, 1), padding=(1, 1), bias=False)\n",
      "          (4): GroupNorm(1, 8, eps=1e-05, affine=True)\n",
      "          (5): ReLU()\n",
      "        )\n",
      "      )\n",
      "    )\n",
      "    (emb_layer): Sequential(\n",
      "      (0): ReLU()\n",
      "      (1): Linear(in_features=4, out_features=8, bias=True)\n",
      "    )\n",
      "  )\n",
      "  (up2): Up(\n",
      "    (up): Upsample(scale_factor=2.0, mode='nearest')\n",
      "    (conv): Sequential(\n",
      "      (0): DoubleConv(\n",
      "        (double_conv): Sequential(\n",
      "          (0): Conv2d(16, 8, kernel_size=(3, 3), stride=(1, 1), padding=(1, 1), bias=False)\n",
      "          (1): GroupNorm(1, 8, eps=1e-05, affine=True)\n",
      "          (2): ReLU()\n",
      "          (3): Conv2d(8, 4, kernel_size=(3, 3), stride=(1, 1), padding=(1, 1), bias=False)\n",
      "          (4): GroupNorm(1, 4, eps=1e-05, affine=True)\n",
      "          (5): ReLU()\n",
      "        )\n",
      "      )\n",
      "    )\n",
      "    (emb_layer): Sequential(\n",
      "      (0): ReLU()\n",
      "      (1): Linear(in_features=4, out_features=4, bias=True)\n",
      "    )\n",
      "  )\n",
      "  (up3): Up(\n",
      "    (up): Upsample(scale_factor=2.0, mode='nearest')\n",
      "    (conv): Sequential(\n",
      "      (0): DoubleConv(\n",
      "        (double_conv): Sequential(\n",
      "          (0): Conv2d(8, 4, kernel_size=(3, 3), stride=(1, 1), padding=(1, 1), bias=False)\n",
      "          (1): GroupNorm(1, 4, eps=1e-05, affine=True)\n",
      "          (2): ReLU()\n",
      "          (3): Conv2d(4, 2, kernel_size=(3, 3), stride=(1, 1), padding=(1, 1), bias=False)\n",
      "          (4): GroupNorm(1, 2, eps=1e-05, affine=True)\n",
      "          (5): ReLU()\n",
      "        )\n",
      "      )\n",
      "    )\n",
      "    (emb_layer): Sequential(\n",
      "      (0): ReLU()\n",
      "      (1): Linear(in_features=4, out_features=2, bias=True)\n",
      "    )\n",
      "  )\n",
      "  (outc): Conv2d(2, 1, kernel_size=(1, 1), stride=(1, 1))\n",
      ")\n"
     ]
    }
   ],
   "source": [
    "from models import Model, UNetLite\n",
    "modtype = 'UNet_lite'\n",
    "\n",
    "if modtype == 'UNet2d':\n",
    "    model = Model('UNet', new_dim)\n",
    "elif modtype == 'UNet_lite':\n",
    "    model = UNetLite()\n",
    "\n",
    "print(model)"
   ]
  },
  {
   "cell_type": "code",
   "execution_count": 43,
   "metadata": {},
   "outputs": [],
   "source": [
    "if modtype == 'UNet2d':\n",
    "    model = model.__getitem__()"
   ]
  },
  {
   "cell_type": "code",
   "execution_count": 44,
   "metadata": {},
   "outputs": [
    {
     "name": "stdout",
     "output_type": "stream",
     "text": [
      "trained_models_lite-131744/model_epoch_5.pt\n"
     ]
    }
   ],
   "source": [
    "if modtype == 'UNet2d':\n",
    "    trained_model_path = '/hdfs/user/ys20884/hackathon/trained_models/trained_diffusor.pt'\n",
    "elif modtype == 'UNet_lite':\n",
    "    trained_model_path = 'trained_models_lite-131744/model_epoch_5.pt'\n",
    "\n",
    "print(trained_model_path)"
   ]
  },
  {
   "cell_type": "code",
   "execution_count": 45,
   "metadata": {},
   "outputs": [],
   "source": [
    "checkpoint = torch.load(trained_model_path)"
   ]
  },
  {
   "cell_type": "code",
   "execution_count": 46,
   "metadata": {},
   "outputs": [
    {
     "data": {
      "text/plain": [
       "<All keys matched successfully>"
      ]
     },
     "execution_count": 46,
     "metadata": {},
     "output_type": "execute_result"
    }
   ],
   "source": [
    "model.load_state_dict(checkpoint)"
   ]
  },
  {
   "cell_type": "code",
   "execution_count": 47,
   "metadata": {},
   "outputs": [
    {
     "data": {
      "text/plain": [
       "<matplotlib.colorbar.Colorbar at 0x7f758cdc9d90>"
      ]
     },
     "execution_count": 47,
     "metadata": {},
     "output_type": "execute_result"
    },
    {
     "data": {
      "image/png": "[encoded data removed]",
      "text/plain": [
       "<Figure size 432x288 with 2 Axes>"
      ]
     },
     "metadata": {
      "needs_background": "light"
     },
     "output_type": "display_data"
    }
   ],
   "source": [
    "if modtype == 'UNet2d':\n",
    "    noise_pred = model(noisy_image.unsqueeze(1), timestep, return_dict=False)[0]\n",
    "elif modtype == 'UNet_lite':\n",
    "    noise_pred = model(noisy_image.unsqueeze(1), timestep)       #, return_dict=False)[0]\n",
    "\n",
    "ims = plt.imshow(noise_pred.detach().numpy().reshape(new_dim))\n",
    "plt.colorbar(ims)\n",
    "plt.title(\"Noise Prediction\")"
   ]
  },
  {
   "cell_type": "code",
   "execution_count": 48,
   "metadata": {},
   "outputs": [],
   "source": [
    "de_noised = noisy_image[0] - (noise_pred.detach().numpy().reshape(new_dim))"
   ]
  },
  {
   "cell_type": "code",
   "execution_count": 49,
   "metadata": {},
   "outputs": [
    {
     "name": "stdout",
     "output_type": "stream",
     "text": [
      "Mean: -0.06758502870798111\n",
      "Max: 0.9501456022262573\n",
      "Min: -0.11856118589639664\n"
     ]
    },
    {
     "data": {
      "text/plain": [
       "<matplotlib.colorbar.Colorbar at 0x7f758cd4e880>"
      ]
     },
     "execution_count": 49,
     "metadata": {},
     "output_type": "execute_result"
    },
    {
     "data": {
      "image/png": "[encoded data removed]",
      "text/plain": [
       "<Figure size 432x288 with 2 Axes>"
      ]
     },
     "metadata": {
      "needs_background": "light"
     },
     "output_type": "display_data"
    }
   ],
   "source": [
    "\n",
    "im = plt.imshow(de_noised.reshape(new_dim))\n",
    "plt.colorbar(im)\n",
    "plt.title(\"Denoised Image\")"
   ]
  },
  {
   "cell_type": "code",
   "execution_count": 50,
   "metadata": {},
   "outputs": [
    {
     "data": {
      "text/plain": [
       "<matplotlib.colorbar.Colorbar at 0x7f758cc81c40>"
      ]
     },
     "execution_count": 50,
     "metadata": {},
     "output_type": "execute_result"
    },
    {
     "data": {
      "image/png": "[encoded data removed]",
      "text/plain": [
       "<Figure size 432x288 with 2 Axes>"
      ]
     },
     "metadata": {
      "needs_background": "light"
     },
     "output_type": "display_data"
    }
   ],
   "source": [
    "im2 = plt.imshow(clean_frames[i].squeeze())\n",
    "plt.colorbar(im2)\n",
    "plt.title(\"Clean Image\")"
   ]
  },
  {
   "cell_type": "code",
   "execution_count": null,
   "metadata": {},
   "outputs": [],
   "source": []
  }
 ],
 "metadata": {
  "kernelspec": {
   "display_name": "Python 3",
   "language": "python",
   "name": "python3"
  },
  "language_info": {
   "codemirror_mode": {
    "name": "ipython",
    "version": 3
   },
   "file_extension": ".py",
   "mimetype": "text/x-python",
   "name": "python",
   "nbconvert_exporter": "python",
   "pygments_lexer": "ipython3",
   "version": "3.8.16"
  }
 },
 "nbformat": 4,
 "nbformat_minor": 2
}
