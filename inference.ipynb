{
 "cells": [
  {
   "cell_type": "code",
   "execution_count": null,
   "metadata": {},
   "outputs": [],
   "source": [
    "from data_processing import Dataset\n",
    "from noise import NoiseScheduler\n",
    "import matplotlib.pyplot as plt\n",
    "import numpy as np\n",
    "import torch.nn.functional as F\n",
    "from torchvision import transforms\n",
    "import torch\n"
   ]
  },
  {
   "cell_type": "code",
   "execution_count": null,
   "metadata": {},
   "outputs": [],
   "source": [
    "data_dir = \"/cephfs/dice/users/ek19824/l1trigger/diffusion/datasets\"       ## set to directory where data is stored\n",
    "\n",
    "dataset = Dataset(1_000, (120, 72), signal_file=f\"{data_dir}/CaloImages_signal.root\", pile_up_file=f\"{data_dir}/CaloImages_bkg.root\", save=False)"
   ]
  },
  {
   "cell_type": "code",
   "execution_count": null,
   "metadata": {},
   "outputs": [],
   "source": [
    "dataset() #once this is cached, you don't have to re-load"
   ]
  },
  {
   "cell_type": "code",
   "execution_count": null,
   "metadata": {},
   "outputs": [],
   "source": [
    "new_dim=(64,64)"
   ]
  },
  {
   "cell_type": "code",
   "execution_count": null,
   "metadata": {},
   "outputs": [],
   "source": [
    "dataset.preprocess(16, new_dim)"
   ]
  },
  {
   "cell_type": "code",
   "execution_count": null,
   "metadata": {},
   "outputs": [],
   "source": [
    "preprocess = transforms.Compose(\n",
    "        [\n",
    "            transforms.ToTensor()\n",
    "        ]\n",
    ")"
   ]
  },
  {
   "cell_type": "code",
   "execution_count": null,
   "metadata": {},
   "outputs": [],
   "source": [
    "clean_frames = preprocess(dataset.signal).float().permute(1, 2, 0).unsqueeze(1) #pytorch symantics\n",
    "pile_up = preprocess(dataset.pile_up).float().permute(1, 2, 0).unsqueeze(1)"
   ]
  },
  {
   "cell_type": "code",
   "execution_count": null,
   "metadata": {},
   "outputs": [],
   "source": [
    "i = 10\n",
    "noise_scheduler = NoiseScheduler('pile-up')\n",
    "timestep = torch.LongTensor([10]) #each unit of timestep represents an addtional 5 pile-up events\n",
    "random_seed = 42\n",
    "noisy_image, noise = noise_scheduler.add_noise(clean_frame=clean_frames[i], noise_sample=pile_up, timestep=timestep, random_seed=random_seed, n_events = 1000)\n"
   ]
  },
  {
   "cell_type": "code",
   "execution_count": null,
   "metadata": {},
   "outputs": [],
   "source": [
    "\n",
    "plt.imshow(noisy_image.reshape(new_dim))\n",
    "plt.colorbar()\n",
    "plt.title(\"Noised Image\")"
   ]
  },
  {
   "cell_type": "code",
   "execution_count": null,
   "metadata": {},
   "outputs": [],
   "source": [
    "from models import Model, UNetLite, UNetLite_hls\n",
    "modtype = 'UNet_lite'\n",
    "\n",
    "if modtype == 'UNet2d':\n",
    "    model = Model('UNet', new_dim)\n",
    "elif modtype == 'UNet_lite':\n",
    "    model = UNetLite_hls()\n",
    "\n",
    "print(model)"
   ]
  },
  {
   "cell_type": "code",
   "execution_count": null,
   "metadata": {},
   "outputs": [],
   "source": [
    "if modtype == 'UNet2d':\n",
    "    model = model.__getitem__()"
   ]
  },
  {
   "cell_type": "code",
   "execution_count": null,
   "metadata": {},
   "outputs": [],
   "source": [
    "if modtype == 'UNet2d':\n",
    "    trained_model_path = '/hdfs/user/ys20884/hackathon/trained_models/trained_diffusor.pt'\n",
    "elif modtype == 'UNet_lite':\n",
    "    trained_model_path = 'trained_models_lite/model_epoch_9.pt'\n",
    "\n",
    "print(trained_model_path)"
   ]
  },
  {
   "cell_type": "code",
   "execution_count": null,
   "metadata": {},
   "outputs": [],
   "source": [
    "checkpoint = torch.load(trained_model_path)"
   ]
  },
  {
   "cell_type": "code",
   "execution_count": null,
   "metadata": {},
   "outputs": [],
   "source": [
    "model.load_state_dict(checkpoint)"
   ]
  },
  {
   "cell_type": "code",
   "execution_count": null,
   "metadata": {},
   "outputs": [],
   "source": [
    "if modtype == 'UNet2d':\n",
    "    noise_pred = model(noisy_image.unsqueeze(1), timestep, return_dict=False)[0]\n",
    "elif modtype == 'UNet_lite':\n",
    "    noise_pred = model(noisy_image.unsqueeze(1), timestep)       #, return_dict=False)[0]\n",
    "\n",
    "ims = plt.imshow(noise_pred.detach().numpy().reshape(new_dim))\n",
    "plt.colorbar(ims)\n",
    "plt.title(\"Noise Prediction\")"
   ]
  },
  {
   "cell_type": "code",
   "execution_count": null,
   "metadata": {},
   "outputs": [],
   "source": [
    "de_noised = noisy_image[0] - (noise_pred.detach().numpy().reshape(new_dim))"
   ]
  },
  {
   "cell_type": "code",
   "execution_count": null,
   "metadata": {},
   "outputs": [],
   "source": [
    "\n",
    "im = plt.imshow(de_noised.reshape(new_dim))\n",
    "plt.colorbar(im)\n",
    "plt.title(\"Denoised Image\")"
   ]
  },
  {
   "cell_type": "code",
   "execution_count": null,
   "metadata": {},
   "outputs": [],
   "source": [
    "im2 = plt.imshow(clean_frames[i].squeeze())\n",
    "plt.colorbar(im2)\n",
    "plt.title(\"Clean Image\")"
   ]
  },
  {
   "cell_type": "code",
   "execution_count": null,
   "metadata": {},
   "outputs": [],
   "source": []
  }
 ],
 "metadata": {
  "kernelspec": {
   "display_name": "Python 3",
   "language": "python",
   "name": "python3"
  },
  "language_info": {
   "codemirror_mode": {
    "name": "ipython",
    "version": 3
   },
   "file_extension": ".py",
   "mimetype": "text/x-python",
   "name": "python",
   "nbconvert_exporter": "python",
   "pygments_lexer": "ipython3",
   "version": "3.8.16"
  }
 },
 "nbformat": 4,
 "nbformat_minor": 2
}
